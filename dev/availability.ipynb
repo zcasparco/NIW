{
 "cells": [
  {
   "cell_type": "code",
   "execution_count": 1,
   "id": "27a6730d-61ef-4c2e-8142-6c12e4e10159",
   "metadata": {},
   "outputs": [],
   "source": [
    "import numpy as np\n",
    "import xarray as xr"
   ]
  },
  {
   "cell_type": "code",
   "execution_count": 2,
   "id": "f2a8ee81-844b-4451-905e-74887474d21b",
   "metadata": {},
   "outputs": [],
   "source": [
    "root_dir = '/Users/zcasparcohen/Documents/NatCom _files/'"
   ]
  },
  {
   "cell_type": "code",
   "execution_count": 15,
   "id": "cfb2bf08-82a0-4d40-8341-93e3ebe2ac58",
   "metadata": {},
   "outputs": [],
   "source": [
    "SSU_dl1 = xr.open_dataset(root_dir+'energy_SSU_hf_binned_dl1.0.nc')\n",
    "SSU_dl2 = xr.open_dataset(root_dir+'energy_SSU_hf_binned_dl2.0.nc')\n",
    "\n",
    "SSV_dl1 = xr.open_dataset(root_dir+'energy_SSV_hf_binned_dl1.0.nc')\n",
    "SSV_dl2 = xr.open_dataset(root_dir+'energy_SSV_hf_binned_dl2.0.nc')\n",
    "\n",
    "dl1 = xr.open_dataset(root_dir+'energy_hf_binned_dl1.0.nc')\n",
    "\n",
    "\n",
    "gdp = xr.open_dataset(root_dir+'gdp_combined.nc')"
   ]
  },
  {
   "cell_type": "code",
   "execution_count": 16,
   "id": "d0aff01b-4161-4a3d-bc94-885a4e2142d1",
   "metadata": {},
   "outputs": [],
   "source": [
    "SSU_dl1['lat_bin'] = SSU_dl1.lat_bin.assign_attrs({'long_name':'Latitude', 'units':'degrees_north'})\n",
    "SSU_dl1['lon_bin'] = SSU_dl1.lon_bin.assign_attrs({'long_name':'Longitude', 'units':'degrees_east'})\n",
    "\n",
    "SSU_dl2['lat_bin'] = SSU_dl2.lat_bin.assign_attrs({'long_name':'Latitude', 'units':'degrees_north'})\n",
    "SSU_dl2['lon_bin'] = SSU_dl2.lon_bin.assign_attrs({'long_name':'Longitude', 'units':'degrees_east'})\n",
    "\n",
    "SSV_dl1['lat_bin'] = SSU_dl1.lat_bin.assign_attrs({'long_name':'Latitude', 'units':'degrees_north'})\n",
    "SSV_dl1['lon_bin'] = SSU_dl1.lon_bin.assign_attrs({'long_name':'Longitude', 'units':'degrees_east'})\n",
    "\n",
    "SSV_dl2['lat_bin'] = SSU_dl2.lat_bin.assign_attrs({'long_name':'Latitude', 'units':'degrees_north'})\n",
    "SSV_dl2['lon_bin'] = SSU_dl2.lon_bin.assign_attrs({'long_name':'Longitude', 'units':'degrees_east'})"
   ]
  },
  {
   "cell_type": "code",
   "execution_count": 17,
   "id": "b00c432c-6054-4652-a294-dbfab19ff772",
   "metadata": {},
   "outputs": [],
   "source": [
    "SSU_dl1['E_energy_SSU'] = SSU_dl1.E_energy_SSU.assign_attrs({'long_name':'Zonal variance','units':r'$m^2 s^{-2}$'})\n",
    "SSU_dl1['L_energy_SSU'] = SSU_dl1.L_energy_SSU.assign_attrs({'long_name':'Zonal variance','units':r'$m^2 s^{-2}$'})\n",
    "SSU_dl1['waterdepth'] = SSU_dl1.waterdepth.assign_attrs({'long_name':'Bottom depth','units':r'm'})\n",
    "SSV_dl1['E_energy_SSV'] = SSV_dl1.E_energy_SSV.assign_attrs({'long_name':'Meridional variance','units':r'$m^2 s^{-2}$'})\n",
    "SSV_dl1['L_energy_SSV'] = SSV_dl1.L_energy_SSV.assign_attrs({'long_name':'Meridional variance','units':r'$m^2 s^{-2}$'})\n",
    "SSV_dl1['waterdepth'] = SSV_dl1.waterdepth.assign_attrs({'long_name':'Bottom depth','units':r'm'})\n",
    "\n",
    "SSU_dl2['E_energy_SSU'] = SSU_dl2.E_energy_SSU.assign_attrs({'long_name':'Zonal variance','units':r'$m^2 s^{-2}$'})\n",
    "SSU_dl2['L_energy_SSU'] = SSU_dl2.L_energy_SSU.assign_attrs({'long_name':'Zonal variance','units':r'$m^2 s^{-2}$'})\n",
    "SSU_dl2['waterdepth'] = SSU_dl2.waterdepth.assign_attrs({'long_name':'Bottom depth','units':r'm'})\n",
    "SSV_dl2['E_energy_SSV'] = SSV_dl2.E_energy_SSV.assign_attrs({'long_name':'Meridional variance','units':r'$m^2 s^{-2}$'})\n",
    "SSV_dl2['L_energy_SSV'] = SSV_dl2.L_energy_SSV.assign_attrs({'long_name':'Meridional variance','units':r'$m^2 s^{-2}$'})\n",
    "SSV_dl2['waterdepth'] = SSV_dl2.waterdepth.assign_attrs({'long_name':'Bottom depth','units':r'm'})"
   ]
  },
  {
   "cell_type": "code",
   "execution_count": 18,
   "id": "7c2ce288-ec93-4fd2-bc3a-ec0659746180",
   "metadata": {},
   "outputs": [],
   "source": [
    "dl1['E_energy'] = dl1.E_energy.assign_attrs({'long_name':'Kinetic energy','units':r'$m^2 s^{-2}$'})\n",
    "dl1['L_energy'] = dl1.L_energy.assign_attrs({'long_name':'Kinetic energy','units':r'$m^2 s^{-2}$'})\n",
    "dl1['waterdepth'] = dl1.waterdepth.assign_attrs({'long_name':'Bottom depth','units':r'm'})\n",
    "dl1['lat_bin'] = dl1.lat_bin.assign_attrs({'long_name':'Latitude', 'units':'degrees_north'})\n",
    "dl1['lon_bin'] = dl1.lon_bin.assign_attrs({'long_name':'Longitude', 'units':'degrees_east'})"
   ]
  },
  {
   "cell_type": "code",
   "execution_count": 23,
   "id": "bf9982c4-2426-4150-a160-a7078303c13b",
   "metadata": {},
   "outputs": [],
   "source": [
    "gdp['semidiurnal_ve_abs2_mean'] = gdp.semidiurnal_ve_abs2_mean.assign_attrs({'long_name':'Zonal variance','units':r'$m^2 s^{-2}$'})\n",
    "gdp['semidiurnal_vn_abs2_mean'] = gdp.semidiurnal_vn_abs2_mean.assign_attrs({'long_name':'Meridional variance','units':r'$m^2 s^{-2}$'})"
   ]
  },
  {
   "cell_type": "code",
   "execution_count": 25,
   "id": "33d19927-62d2-40e2-a674-a9e7616e5e31",
   "metadata": {},
   "outputs": [],
   "source": [
    "gdp.to_netcdf(root_dir+'gdp_combined_attrs.nc')\n",
    "\n",
    "SSU_dl1.to_netcdf(root_dir+'energy_SSU_hf_binned_dl1.0_attrs.nc')\n",
    "SSU_dl2.to_netcdf(root_dir+'energy_SSU_hf_binned_dl2.0_attrs.nc')\n",
    "\n",
    "SSV_dl1.to_netcdf(root_dir+'energy_SSV_hf_binned_dl1.0_attrs.nc')\n",
    "SSV_dl2.to_netcdf(root_dir+'energy_SSV_hf_binned_dl2.0_attrs.nc')\n",
    "\n",
    "dl1.to_netcdf(root_dir+'energy_hf_binned_dl1.0_attrs.nc')"
   ]
  },
  {
   "cell_type": "code",
   "execution_count": null,
   "id": "da7622cd-a6e7-4d3d-aeef-f308dfc2736e",
   "metadata": {},
   "outputs": [],
   "source": []
  }
 ],
 "metadata": {
  "kernelspec": {
   "display_name": "Python 3 (ipykernel)",
   "language": "python",
   "name": "python3"
  },
  "language_info": {
   "codemirror_mode": {
    "name": "ipython",
    "version": 3
   },
   "file_extension": ".py",
   "mimetype": "text/x-python",
   "name": "python",
   "nbconvert_exporter": "python",
   "pygments_lexer": "ipython3",
   "version": "3.11.4"
  }
 },
 "nbformat": 4,
 "nbformat_minor": 5
}
