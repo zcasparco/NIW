{
 "cells": [
  {
   "cell_type": "code",
   "execution_count": 1,
   "id": "450f5828-0035-4929-9549-22ceedf0f67e",
   "metadata": {},
   "outputs": [],
   "source": [
    "import numpy as np\n",
    "import xarray as xr"
   ]
  },
  {
   "cell_type": "code",
   "execution_count": 4,
   "id": "52297f92-2bbe-493b-bc91-f4fb198ce746",
   "metadata": {},
   "outputs": [],
   "source": [
    "root_dir = '/Users/zcasparcohen/Downloads/'"
   ]
  },
  {
   "cell_type": "code",
   "execution_count": 15,
   "id": "763da6ff-92f0-4805-829c-d92043e13c7d",
   "metadata": {},
   "outputs": [],
   "source": [
    "ds = xr.open_dataset(root_dir+'gdp_combined_attrs.nc')\n",
    "ds_energy = xr.open_dataset(root_dir+'gdp_combined_energy.nc').rename({'lon_bin':'lon','lat_bin':'lat'})"
   ]
  },
  {
   "cell_type": "code",
   "execution_count": 13,
   "id": "7bc93248-eee7-455c-b72c-b217cc53de3b",
   "metadata": {},
   "outputs": [
    {
     "data": {
      "text/plain": [
       "{'long_name': 'Zonal variance', 'units': '$m^2 s^{-2}$'}"
      ]
     },
     "execution_count": 13,
     "metadata": {},
     "output_type": "execute_result"
    }
   ],
   "source": [
    "ds.semidiurnal_ve_abs2_mean.attrs"
   ]
  },
  {
   "cell_type": "code",
   "execution_count": 16,
   "id": "00ced332-7bc6-4066-8ef9-878bc42a4081",
   "metadata": {},
   "outputs": [],
   "source": [
    "ds_energy['lon'].attrs = ds.lon.attrs\n",
    "ds_energy['lat'].attrs = ds.lat.attrs\n",
    "ds_energy['semidiurnal_ve_abs2_mean'].attrs = ds.semidiurnal_ve_abs2_mean.attrs\n",
    "ds_energy['semidiurnal_vn_abs2_mean'].attrs = ds.semidiurnal_vn_abs2_mean.attrs\n",
    "ds_energy['L_energy'].attrs = {'long_name': 'Lagrangian energy', 'units': r'$m^2 s^{-2}$'}\n",
    "ds_energy['E_energy'].attrs = {'long_name': 'Converted energy', 'units': r'$m^2 s^{-2}$'}"
   ]
  },
  {
   "cell_type": "code",
   "execution_count": 18,
   "id": "e3cd11ac-38ab-4cab-a101-8e358d8666a7",
   "metadata": {},
   "outputs": [],
   "source": [
    "ds_energy.to_netcdf(root_dir+'gdp_energy.nc')"
   ]
  },
  {
   "cell_type": "code",
   "execution_count": null,
   "id": "24194b82-4993-42d1-9296-ccf5aca89cf3",
   "metadata": {},
   "outputs": [],
   "source": []
  }
 ],
 "metadata": {
  "kernelspec": {
   "display_name": "Python 3 (ipykernel)",
   "language": "python",
   "name": "python3"
  },
  "language_info": {
   "codemirror_mode": {
    "name": "ipython",
    "version": 3
   },
   "file_extension": ".py",
   "mimetype": "text/x-python",
   "name": "python",
   "nbconvert_exporter": "python",
   "pygments_lexer": "ipython3",
   "version": "3.11.4"
  }
 },
 "nbformat": 4,
 "nbformat_minor": 5
}
