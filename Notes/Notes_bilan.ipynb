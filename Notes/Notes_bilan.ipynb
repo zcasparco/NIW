{
 "cells": [
  {
   "cell_type": "markdown",
   "id": "fccf5aa2-92c1-43ca-8618-65e91e0d9284",
   "metadata": {},
   "source": [
    "# Bilan retour"
   ]
  },
  {
   "cell_type": "markdown",
   "id": "6b0ab579-6fc7-4557-a8f3-f20bba66328c",
   "metadata": {},
   "source": [
    "## Questions scientifiques\n",
    "La question principale de cette étude est la compréhension de l'impact de l'écoulement lent sur le cycle de vie des ondes proches inertielles à partir de données sur un site particulierement énergétique en Atlantique Nord. Ce sujet est vaste et peut être divisé en plusieurs sous-questions.\n",
    "\n",
    "* Generation: La présence d'un écoulement lent à la génération des NIW a-t'elle un impact sur l'apparition des oscillations proches inertielles et leur conversion en des NIW sous la couche de mélange?\n",
    "* Propagation et dissipation: L'ecoulement lent peut-il être un puits ou une source d'énergie pour les NIWs? Quels sont les transferts d'energie entre basse frequence et NIW? Comment ces transferts sont-ils liés à la structure 3D des ces deux processus?\n",
    "* Propagation : La basse frequence cause-t-elle dispersion, deplacement ou refraction? reflection des ondes proches inertielles?\n",
    "\n",
    "Nous choississons ici de nous intéresser à l'origine de l'énergie autour de la frequence proche inertielle et comment celle-ci peut être liée au courant basse fréquence sur le site."
   ]
  },
  {
   "cell_type": "markdown",
   "id": "dd1d2897-aad2-466d-a143-2fdb3bc866cf",
   "metadata": {},
   "source": [
    "## Abstract (OSM)\n",
    "The propagation and dissipation of energy by the near-inertial (NIW) play an essential role in the ocean circulation and mixing. However, during their life cycle, NIW may interact with other type of motions, such as waves, mesoscale mean-flow and eddies. In particular, modifications of NIW generation, propagation and dissipation caused by the presence of mesoscale motion has been observed. The link between the near-inertial kinetic energy (NI KE) horizontal and vertical repartition and mesoscale properties and seasonality remain an open question.\n",
    "In this study, we address this question by analysing these interactions in area of enhanced eddy kinetic energy and strong seasonality of wind-generated NIW. Using the data from three moorings located in the Iceland Basin, we investigate the origin of near-inertial kinetic energy and its distribution along the water column.\n",
    "We find that high NI KE levels events observed in the mixed layer coincide with large wind work events in the mixed layer. However, the origin of the NI KE observed at depth is less straightforward as strong modulation of the signal seem to occur around and below the thermocline. Indeed, at these depths, the NI KE levels and variability are high at all mooring sites and show evidence of the impact of mesoscale."
   ]
  },
  {
   "cell_type": "markdown",
   "id": "9bb56ca7-1546-4a6e-8ef9-eff68ace6377",
   "metadata": {},
   "source": [
    "### Methode d'extraction\n",
    "* Filtre passe-bande, $\\Delta\\omega$ = 0.2 cpd\n",
    "* WKB scaling"
   ]
  },
  {
   "cell_type": "markdown",
   "id": "88ed81cc-e942-4a83-8e97-3acded8b1963",
   "metadata": {},
   "source": [
    "### Origines possibles\n",
    "\n",
    "* Liées au filtrage\n",
    "    * Contamination par la basse fréquence (fait aussi partie du deuxieme point)\n",
    "    * Contamination par non-stationnarité\n",
    "    * Contamination par haute frequence (autre que NI, en Atlantique Nord maree interne semidiurne est la plus probable)\n",
    "    * Contamination par du bruit\n",
    "    * Perte d'energie "
   ]
  },
  {
   "cell_type": "markdown",
   "id": "3a7e041f-ec1f-4c40-8b89-2e2db294938c",
   "metadata": {},
   "source": [
    "* Liées à la basse frequence\n",
    "    * Contamination du signal extrait (amplitude, frequence et echelle de temps de decorrelation)\n",
    "    * Effet cheminee (vorticite)"
   ]
  },
  {
   "cell_type": "markdown",
   "id": "5c31967a-738b-4968-95ff-1ef1b5e8a0e3",
   "metadata": {},
   "source": [
    "* Liées à autre chose\n",
    "    * Originaire d'un site voisin\n",
    "    * Interactions onde-onde"
   ]
  },
  {
   "cell_type": "markdown",
   "id": "aed3c801-157b-458d-b0ed-44902c15a4a9",
   "metadata": {},
   "source": [
    "### Pistes d'investigation\n",
    "* Forme du spectre: pente, largeur des pics, etc  \n",
    "  $=>$ prediction de la quantité d'energie basse frequence prise dans bande"
   ]
  },
  {
   "cell_type": "markdown",
   "id": "6c4ee47c-29e1-4c61-8dd8-d4b396c593e4",
   "metadata": {},
   "source": [
    "* Demodulation   \n",
    "  $=>$ What frequencies are interferring?    \n",
    "  $=>$ Decorrelation timescale    \n",
    "  $=>$ Time shift"
   ]
  },
  {
   "cell_type": "markdown",
   "id": "7077be0b-0c9c-4344-b10c-7a2bec78c3dd",
   "metadata": {},
   "source": [
    "### Diagnostiques\n",
    "\n",
    "* Lowpass filter after bandpass filter or Hilbert transform + demodulation ($=>$demodulated signal)\n",
    "    * Verifier que les deux methodes donnent les mêmes resultats: amplitude et spectre\n",
    "    * Spectres => Premiere estimation de la modulation (quelles dynammiques sont possiblement en jeu?)\n",
    "* Spectres (vitesses ou cisaillement) du signal total vs demodulé vs basse frequence\n",
    "    * Estimation spectres basse frequence + contamination(proprietes BF + largeur de bande); some kind of fit\n",
    "    * Estimation qualititative de l'incoherence des NIWs + separation ou non de la maree interne et des NIWs\n",
    "* Autocorrelation signal modulé (optionnel, seon les resultats des précédents diags)\n",
    "    * Fit: estimation echelle de temps d'incoherence\n"
   ]
  },
  {
   "cell_type": "markdown",
   "id": "ed3d657d-cd96-468d-8645-44772fc2fe1f",
   "metadata": {},
   "source": [
    "### Demodulation: \n",
    "#### Several methods\n",
    "\n",
    "1) Applying a lowpass filter along the band[ass filtered time series  \n",
    "2) Getting the analytical signal of HF signal with the Hilbert transform and removing fast oscillations with exponential  \n",
    "3) Hebert and Moum"
   ]
  },
  {
   "cell_type": "markdown",
   "id": "c346b61f-9dbd-486c-b497-16d8ccae760c",
   "metadata": {},
   "source": [
    "#### What to get from the demodulated signal?\n",
    "\n",
    "* Time series of amplitude and phase at all deph\n",
    "* Decorrelation timescale\n",
    "* If relevant, modulation frequency"
   ]
  },
  {
   "cell_type": "markdown",
   "id": "c37da9f6-8835-4170-b25f-d4b04dbfbe4e",
   "metadata": {},
   "source": [
    "### Spectres/autocorrelation\n",
    "Diagnostics to get:\n",
    "1) Quantity of low frequency energy in the near-inertial band\n",
    "2) Quantity of internal tide energy in near-inertial band\n",
    "4) Decorrelation/incoherence timescale\n",
    "5) Modulation frequency"
   ]
  },
  {
   "cell_type": "markdown",
   "id": "a38031e6-c6a7-44eb-8ca8-2c462bec5a6b",
   "metadata": {},
   "source": [
    "How to get them:\n",
    "\n",
    "1) Linear fit of slope (less accurate but should give the right order)\n",
    "2) Fitting theoretical spectra for low frequency signal  \n",
    "$PSD_{low}(\\omega) = \\frac{2\\bar T \\bar U^2}{\\bar T^2\\omega^2+1}$\n",
    "3) Fitting the theoretical spectra for internal tides + near-inertial waves (overkill)\n",
    "4) Making sure of removing the tidal signal and fitting theoretical spectra or autocorrelation for NIWs (getting decorrrelation timescale)\n",
    "5) Spectra of demodulated signal (getting modulation frequency)"
   ]
  }
 ],
 "metadata": {
  "kernelspec": {
   "display_name": "Python 3 (ipykernel)",
   "language": "python",
   "name": "python3"
  },
  "language_info": {
   "codemirror_mode": {
    "name": "ipython",
    "version": 3
   },
   "file_extension": ".py",
   "mimetype": "text/x-python",
   "name": "python",
   "nbconvert_exporter": "python",
   "pygments_lexer": "ipython3",
   "version": "3.11.4"
  }
 },
 "nbformat": 4,
 "nbformat_minor": 5
}
